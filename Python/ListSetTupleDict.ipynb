{
  "cells": [
    {
      "cell_type": "markdown",
      "metadata": {
        "id": "TpcdD4-xiqc_"
      },
      "source": [
        "# Mutable and Immutables\n",
        "* Immutable : int, float, bool, str, tuple\n",
        "\n",
        "  Variables are not boxes that hold values (like in C/C++). Instead Objects live in memory (they have a type, value, and an identity) and Names (variables) are just labels (references) that point to these objects.\n",
        "\n",
        "```\n",
        "# ✅ When you write x = 5:\n",
        "Python checks if an object with value 5 already exists in memory (due to integer interning for small integers [-5, 256]).\n",
        "If yes → reuse it ie x will point to old object created before.\n",
        "If no → allocate a new int object in memory.\n",
        "\n",
        "If we modify x=5 or x=512 to a new value then old object holding 5 will still remain in memroy while object holding 512 will become garbage collectible.\n",
        "```\n",
        "* Mutable : list, set, dict\n",
        "\n",
        "  Same object is modified in place\n",
        "\n",
        "\n",
        "\n"
      ]
    },
    {
      "cell_type": "code",
      "execution_count": 2,
      "metadata": {
        "colab": {
          "base_uri": "https://localhost:8080/"
        },
        "id": "6bQhRvoakov_",
        "outputId": "4aaabf3e-4dcc-4b2d-86ba-2fde14f3591e"
      },
      "outputs": [
        {
          "name": "stdout",
          "output_type": "stream",
          "text": [
            "10757864\n",
            "10758024\n"
          ]
        }
      ],
      "source": [
        "x = 5\n",
        "print(id(x))\n",
        "x = 10\n",
        "print(id(x))"
      ]
    },
    {
      "cell_type": "code",
      "execution_count": 9,
      "metadata": {
        "colab": {
          "base_uri": "https://localhost:8080/"
        },
        "id": "HghQIazquABG",
        "outputId": "021fea2b-709b-402c-a257-6fc3c9edafed"
      },
      "outputs": [
        {
          "name": "stdout",
          "output_type": "stream",
          "text": [
            "True\n"
          ]
        }
      ],
      "source": [
        "x = 5\n",
        "y = 5\n",
        "print(x is y)"
      ]
    },
    {
      "cell_type": "code",
      "execution_count": 3,
      "metadata": {
        "colab": {
          "base_uri": "https://localhost:8080/"
        },
        "id": "NqWUCHNBkudM",
        "outputId": "dc46f386-ff26-490c-e08b-b81d58c6c25d"
      },
      "outputs": [
        {
          "name": "stdout",
          "output_type": "stream",
          "text": [
            "137790416167360\n",
            "137790416167360\n"
          ]
        }
      ],
      "source": [
        "a = [1, 2, 3]\n",
        "print(id(a))\n",
        "a.append(4)\n",
        "print(id(a))"
      ]
    },
    {
      "cell_type": "markdown",
      "metadata": {
        "id": "LEIw2ZZvsbxK"
      },
      "source": [
        "# Tuple\n",
        "Elements cant be add, deleted or modified."
      ]
    },
    {
      "cell_type": "code",
      "execution_count": 7,
      "metadata": {
        "colab": {
          "base_uri": "https://localhost:8080/"
        },
        "id": "S4Bj_P_usfho",
        "outputId": "8632e926-e560-4441-9c69-5760afb23d21"
      },
      "outputs": [
        {
          "name": "stdout",
          "output_type": "stream",
          "text": [
            "(1, 2, 3) 3\n",
            "13\n"
          ]
        }
      ],
      "source": [
        "t = (1,2,3)\n",
        "arr = [13,\"String\"]\n",
        "t2 = tuple(arr)\n",
        "print(t, len(t))\n",
        "print(t2[0])"
      ]
    },
    {
      "cell_type": "markdown",
      "metadata": {
        "id": "nnzc7V5-k9VI"
      },
      "source": [
        "# List"
      ]
    },
    {
      "cell_type": "code",
      "execution_count": 23,
      "metadata": {
        "colab": {
          "base_uri": "https://localhost:8080/"
        },
        "id": "TQ1VZFvolJ7L",
        "outputId": "7bffe980-5e11-4ad2-8bb4-7a80ebf59a8d"
      },
      "outputs": [
        {
          "name": "stdout",
          "output_type": "stream",
          "text": [
            "['Hello'] 1\n"
          ]
        }
      ],
      "source": [
        "arr = []\n",
        "\n",
        "arr.append(5)\n",
        "arr.append(\"Hello\")\n",
        "arr.append(\"World\")\n",
        "\n",
        "del arr[0] # arr.remove(5)\n",
        "arr.pop() # last one\n",
        "\n",
        "print(arr, len(arr))"
      ]
    },
    {
      "cell_type": "markdown",
      "metadata": {
        "id": "49937QB7sr__"
      },
      "source": [
        "# Set\n",
        "It keeps data unique and in order"
      ]
    },
    {
      "cell_type": "code",
      "execution_count": 32,
      "metadata": {
        "colab": {
          "base_uri": "https://localhost:8080/"
        },
        "id": "0zlCgylAsvId",
        "outputId": "36959d2f-1d24-4128-c63f-8613c08ed5a3"
      },
      "outputs": [
        {
          "name": "stdout",
          "output_type": "stream",
          "text": [
            "{2, 3, 4, 5}\n",
            "{3, 4, 5}\n"
          ]
        }
      ],
      "source": [
        "st = {2,3,3,4}\n",
        "st.add(5)\n",
        "print(st)\n",
        "st.remove(2) #st.pop() from start\n",
        "print(st)"
      ]
    },
    {
      "cell_type": "markdown",
      "metadata": {
        "id": "30YUYlg1w51J"
      },
      "source": [
        "# Dict"
      ]
    },
    {
      "cell_type": "code",
      "execution_count": 30,
      "metadata": {
        "colab": {
          "base_uri": "https://localhost:8080/"
        },
        "id": "HjoY80Bbw_aq",
        "outputId": "c81e0492-c0d2-4714-d4d1-3759baca23bd"
      },
      "outputs": [
        {
          "name": "stdout",
          "output_type": "stream",
          "text": [
            "{1: 'Hello', 'name': 'Jitu', 2: False, 4: 'Kya'}\n",
            "{1: 'Hello', 'name': 'Jitu', 4: 'Kya'}\n"
          ]
        }
      ],
      "source": [
        "d={1:\"Hello\", \"name\":\"Jitu\", 2:False}\n",
        "d[4]=\"Kya\"\n",
        "print(d)\n",
        "del d[2] # d.pop(2)\n",
        "print(d)"
      ]
    }
  ],
  "metadata": {
    "colab": {
      "provenance": [],
      "toc_visible": true
    },
    "kernelspec": {
      "display_name": "Python 3",
      "name": "python3"
    },
    "language_info": {
      "name": "python"
    }
  },
  "nbformat": 4,
  "nbformat_minor": 0
}
