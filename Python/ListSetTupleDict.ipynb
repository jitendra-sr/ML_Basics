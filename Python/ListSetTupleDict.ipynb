{
  "nbformat": 4,
  "nbformat_minor": 0,
  "metadata": {
    "colab": {
      "provenance": [],
      "toc_visible": true
    },
    "kernelspec": {
      "name": "python3",
      "display_name": "Python 3"
    },
    "language_info": {
      "name": "python"
    }
  },
  "cells": [
    {
      "cell_type": "markdown",
      "source": [
        "# Mutable and Immutables\n",
        "* Immutable : int, float, bool, str, tuple\n",
        "\n",
        "  Variables are not boxes that hold values (like in C/C++). Instead Objects live in memory (they have a type, value, and an identity) and Names (variables) are just labels (references) that point to these objects.\n",
        "\n",
        "```\n",
        "# ✅ When you write x = 5:\n",
        "Python checks if an object with value 5 already exists in memory (due to integer interning for small integers [-5, 256]).\n",
        "If yes → reuse it ie x will point to old object created before.\n",
        "If no → allocate a new int object in memory.\n",
        "\n",
        "If we modify x=5 or x=512 to a new value then old object holding 5 will still remain in memroy while object holding 512 will become garbage collectible.\n",
        "```\n",
        "* Mutable : list, set, dict\n",
        "\n",
        "  Same object is modified in place\n",
        "\n",
        "\n",
        "\n"
      ],
      "metadata": {
        "id": "TpcdD4-xiqc_"
      }
    },
    {
      "cell_type": "code",
      "source": [
        "x = 5\n",
        "print(id(x))\n",
        "x = 10\n",
        "print(id(x))"
      ],
      "metadata": {
        "colab": {
          "base_uri": "https://localhost:8080/"
        },
        "id": "6bQhRvoakov_",
        "outputId": "4aaabf3e-4dcc-4b2d-86ba-2fde14f3591e"
      },
      "execution_count": 2,
      "outputs": [
        {
          "output_type": "stream",
          "name": "stdout",
          "text": [
            "10757864\n",
            "10758024\n"
          ]
        }
      ]
    },
    {
      "cell_type": "code",
      "source": [
        "x = 5\n",
        "y = 5\n",
        "print(x is y)"
      ],
      "metadata": {
        "colab": {
          "base_uri": "https://localhost:8080/"
        },
        "id": "HghQIazquABG",
        "outputId": "021fea2b-709b-402c-a257-6fc3c9edafed"
      },
      "execution_count": 9,
      "outputs": [
        {
          "output_type": "stream",
          "name": "stdout",
          "text": [
            "True\n"
          ]
        }
      ]
    },
    {
      "cell_type": "code",
      "source": [
        "a = [1, 2, 3]\n",
        "print(id(a))\n",
        "a.append(4)\n",
        "print(id(a))"
      ],
      "metadata": {
        "colab": {
          "base_uri": "https://localhost:8080/"
        },
        "id": "NqWUCHNBkudM",
        "outputId": "dc46f386-ff26-490c-e08b-b81d58c6c25d"
      },
      "execution_count": 3,
      "outputs": [
        {
          "output_type": "stream",
          "name": "stdout",
          "text": [
            "137790416167360\n",
            "137790416167360\n"
          ]
        }
      ]
    },
    {
      "cell_type": "markdown",
      "source": [
        "# Tuple\n",
        "Elements cant be add, deleted or modified."
      ],
      "metadata": {
        "id": "LEIw2ZZvsbxK"
      }
    },
    {
      "cell_type": "code",
      "source": [
        "t = (1,2,3)\n",
        "arr = [13,\"String\"]\n",
        "t2 = tuple(arr)\n",
        "print(t, len(t))\n",
        "print(t2[0])"
      ],
      "metadata": {
        "colab": {
          "base_uri": "https://localhost:8080/"
        },
        "id": "S4Bj_P_usfho",
        "outputId": "8632e926-e560-4441-9c69-5760afb23d21"
      },
      "execution_count": 7,
      "outputs": [
        {
          "output_type": "stream",
          "name": "stdout",
          "text": [
            "(1, 2, 3) 3\n",
            "13\n"
          ]
        }
      ]
    },
    {
      "cell_type": "markdown",
      "source": [
        "# List"
      ],
      "metadata": {
        "id": "nnzc7V5-k9VI"
      }
    },
    {
      "cell_type": "code",
      "source": [
        "arr = []\n",
        "\n",
        "arr.append(5)\n",
        "arr.append(\"Hello\")\n",
        "arr.append(\"World\")\n",
        "\n",
        "del arr[0] # arr.remove(5)\n",
        "arr.pop() # last one\n",
        "\n",
        "print(arr, len(arr))"
      ],
      "metadata": {
        "colab": {
          "base_uri": "https://localhost:8080/"
        },
        "id": "TQ1VZFvolJ7L",
        "outputId": "7bffe980-5e11-4ad2-8bb4-7a80ebf59a8d"
      },
      "execution_count": 23,
      "outputs": [
        {
          "output_type": "stream",
          "name": "stdout",
          "text": [
            "['Hello'] 1\n"
          ]
        }
      ]
    },
    {
      "cell_type": "markdown",
      "source": [
        "# Set"
      ],
      "metadata": {
        "id": "49937QB7sr__"
      }
    },
    {
      "cell_type": "code",
      "source": [
        "st = {2,3,3,4}\n",
        "st.add(5)\n",
        "print(st)\n",
        "st.remove(2) #st.pop() from start\n",
        "print(st)"
      ],
      "metadata": {
        "colab": {
          "base_uri": "https://localhost:8080/"
        },
        "id": "0zlCgylAsvId",
        "outputId": "36959d2f-1d24-4128-c63f-8613c08ed5a3"
      },
      "execution_count": 32,
      "outputs": [
        {
          "output_type": "stream",
          "name": "stdout",
          "text": [
            "{2, 3, 4, 5}\n",
            "{3, 4, 5}\n"
          ]
        }
      ]
    },
    {
      "cell_type": "markdown",
      "source": [
        "# Dict"
      ],
      "metadata": {
        "id": "30YUYlg1w51J"
      }
    },
    {
      "cell_type": "code",
      "source": [
        "d={1:\"Hello\", \"name\":\"Jitu\", 2:False}\n",
        "d[4]=\"Kya\"\n",
        "print(d)\n",
        "del d[2] # d.pop(2)\n",
        "print(d)"
      ],
      "metadata": {
        "colab": {
          "base_uri": "https://localhost:8080/"
        },
        "id": "HjoY80Bbw_aq",
        "outputId": "c81e0492-c0d2-4714-d4d1-3759baca23bd"
      },
      "execution_count": 30,
      "outputs": [
        {
          "output_type": "stream",
          "name": "stdout",
          "text": [
            "{1: 'Hello', 'name': 'Jitu', 2: False, 4: 'Kya'}\n",
            "{1: 'Hello', 'name': 'Jitu', 4: 'Kya'}\n"
          ]
        }
      ]
    }
  ]
}