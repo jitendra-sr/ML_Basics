{
  "cells": [
    {
      "cell_type": "markdown",
      "metadata": {
        "id": "TNXPxuQ9_jnt"
      },
      "source": [
        "# Numpy\n",
        "Numerical Python\n",
        "1. Allow several math operations\n",
        "2. Faster operation"
      ]
    },
    {
      "cell_type": "code",
      "execution_count": 2,
      "metadata": {
        "id": "vH3vV6jc_5fk"
      },
      "outputs": [],
      "source": [
        "import numpy as np"
      ]
    },
    {
      "cell_type": "code",
      "execution_count": 9,
      "metadata": {
        "colab": {
          "base_uri": "https://localhost:8080/"
        },
        "id": "115BsrwcAi8N",
        "outputId": "12ca468a-6d72-41aa-e164-cc15fa6a1b9e"
      },
      "outputs": [
        {
          "name": "stdout",
          "output_type": "stream",
          "text": [
            "0.0\n",
            "0.0\n"
          ]
        }
      ],
      "source": [
        "# Example\n",
        "from time import process_time\n",
        "arr = [i for i in range(10000)]\n",
        "st_time=process_time()\n",
        "arr = [i+5 for i in arr]\n",
        "end_time=process_time()\n",
        "print(end_time-st_time)\n",
        "\n",
        "np_arr = np.array([i for i in range(10000)])\n",
        "st_time=process_time()\n",
        "np_arr+=5\n",
        "end_time=process_time()\n",
        "print(end_time-st_time)"
      ]
    },
    {
      "cell_type": "code",
      "execution_count": 5,
      "metadata": {
        "colab": {
          "base_uri": "https://localhost:8080/"
        },
        "id": "SUz3hfGsAvKO",
        "outputId": "bfb2ca0e-ecbf-45c7-9390-0cbb1d67e57c"
      },
      "outputs": [
        {
          "name": "stdout",
          "output_type": "stream",
          "text": [
            "(4,)\n",
            "(2, 4)\n"
          ]
        }
      ],
      "source": [
        "np_arr1 = np.array((1,2,3,4)) # use tuple or list doesn't matter as arg\n",
        "np_arr2 = np.array([[1,2,3,4],[5,6,7,8]]) # default datatype is int\n",
        "print(np_arr1.shape)\n",
        "print(np_arr2.shape)"
      ]
    },
    {
      "cell_type": "code",
      "execution_count": 11,
      "metadata": {
        "colab": {
          "base_uri": "https://localhost:8080/"
        },
        "id": "RVkzfI0MB6p7",
        "outputId": "3defe171-44a8-4314-dffa-bcf031f7e264"
      },
      "outputs": [
        {
          "name": "stdout",
          "output_type": "stream",
          "text": [
            "[(1, 2, 3), (4, 5, 6)]\n",
            "[[1. 2. 3.]\n",
            " [4. 5. 6.]]\n",
            "(2, 3) 6 2 float64\n"
          ]
        }
      ],
      "source": [
        "a=[(1,2,3),(4,5,6)]\n",
        "b = np.array(a,dtype=float)\n",
        "print(a) #comma separated\n",
        "print(b) # no commas\n",
        "#size =total elements, ndim=dimension, 2d here\n",
        "print(b.shape, b.size, b.ndim, b.dtype)"
      ]
    },
    {
      "cell_type": "markdown",
      "metadata": {
        "id": "BxBCpxPUEPTm"
      },
      "source": [
        "# Creating Arrays with Initial Placeholders"
      ]
    },
    {
      "cell_type": "code",
      "execution_count": 7,
      "metadata": {
        "colab": {
          "base_uri": "https://localhost:8080/"
        },
        "id": "qMUx6hV4EbSq",
        "outputId": "e86f8379-8a06-4a4d-c344-459b4aea2970"
      },
      "outputs": [
        {
          "name": "stdout",
          "output_type": "stream",
          "text": [
            "[[1. 1. 1. 1.]\n",
            " [1. 1. 1. 1.]]\n"
          ]
        }
      ],
      "source": [
        "a = np.ones((2,4)) # shape provided\n",
        "# a = np.zeroes((2,4))\n",
        "print(a) # default float"
      ]
    },
    {
      "cell_type": "code",
      "execution_count": null,
      "metadata": {
        "colab": {
          "base_uri": "https://localhost:8080/"
        },
        "id": "okZ2FYOBE3Pl",
        "outputId": "e4f5ca66-f9df-4f59-ec9a-11309ebe07f1"
      },
      "outputs": [
        {
          "name": "stdout",
          "output_type": "stream",
          "text": [
            "[[2 2 2 2 2]\n",
            " [2 2 2 2 2]\n",
            " [2 2 2 2 2]]\n"
          ]
        }
      ],
      "source": [
        "b=np.full((3,5),2)\n",
        "print(b) # default int"
      ]
    },
    {
      "cell_type": "code",
      "execution_count": null,
      "metadata": {
        "colab": {
          "base_uri": "https://localhost:8080/"
        },
        "id": "JxJGAhUzE8Px",
        "outputId": "019cd76d-fb89-4398-f2b7-d0ceee295b7c"
      },
      "outputs": [
        {
          "name": "stdout",
          "output_type": "stream",
          "text": [
            "[[1. 0. 0.]\n",
            " [0. 1. 0.]\n",
            " [0. 0. 1.]]\n"
          ]
        }
      ],
      "source": [
        "# creating an identity matrix\n",
        "c=np.eye(3) # deafult float\n",
        "print(c)"
      ]
    },
    {
      "cell_type": "code",
      "execution_count": 16,
      "metadata": {
        "colab": {
          "base_uri": "https://localhost:8080/"
        },
        "id": "RUqXhJKcFwNW",
        "outputId": "a9be8f47-6b19-4927-e769-8575336ac192"
      },
      "outputs": [
        {
          "name": "stdout",
          "output_type": "stream",
          "text": [
            "[0.37157503 0.56420342 0.51369171 0.25932412]\n",
            "[13  7  6]\n"
          ]
        }
      ],
      "source": [
        "# creating array with random values 1d, 2d by shape\n",
        "d=np.random.random((3,4))\n",
        "print(d) # float -> [0,1)\n",
        "\n",
        "e=np.random.randint(2,15,(3,3))\n",
        "print(e) # int -> [2,15)"
      ]
    },
    {
      "cell_type": "code",
      "execution_count": 15,
      "metadata": {
        "colab": {
          "base_uri": "https://localhost:8080/"
        },
        "id": "DGBtudIkGgTf",
        "outputId": "18ee4162-5ce1-496b-d248-5995083db4ab"
      },
      "outputs": [
        {
          "name": "stdout",
          "output_type": "stream",
          "text": [
            "[10. 16. 22. 28. 34. 40.]\n",
            "[10 16 22 28 34]\n"
          ]
        }
      ],
      "source": [
        "# evenly spaced 1D array values -> specify number of values\n",
        "d=np.linspace(10,40,6)\n",
        "print(d) # float -> [10,40]\n",
        "\n",
        "# evenly spaced 1D array values by steps\n",
        "d=np.arange(10,40,6)\n",
        "print(d) # int -> [10,40)"
      ]
    },
    {
      "cell_type": "markdown",
      "metadata": {
        "id": "2224prC4i3W7"
      },
      "source": [
        "# Math operations on arrays\n"
      ]
    },
    {
      "cell_type": "code",
      "execution_count": 30,
      "metadata": {
        "colab": {
          "base_uri": "https://localhost:8080/"
        },
        "id": "e2CK4k6xlx8s",
        "outputId": "26b6cac2-55d4-46cb-ce8e-ec1e21064fdf"
      },
      "outputs": [
        {
          "name": "stdout",
          "output_type": "stream",
          "text": [
            "[2, 3, 4, 5, 6, 7]\n",
            "[ 7  9 11]\n",
            "[ 7  9 11]\n",
            "[-3 -3 -3]\n"
          ]
        }
      ],
      "source": [
        "a1=[2,3,4]\n",
        "a2=[5,6,7]\n",
        "print(a1+a2) # concatenation happens\n",
        "\n",
        "b1=np.array(a1)\n",
        "b2=np.array(a2)\n",
        "# shape should be equal\n",
        "print(b1+b2) # Addition will happen,  -,*,/ can also be done\n",
        "\n",
        "print(np.add(a1,a2)) # methods can be called on normal arrays also\n",
        "print(np.subtract(b1,b2))"
      ]
    },
    {
      "cell_type": "markdown",
      "metadata": {
        "id": "JAVQfXR7pDAT"
      },
      "source": [
        "# Array Manipulation"
      ]
    },
    {
      "cell_type": "code",
      "execution_count": 34,
      "metadata": {
        "colab": {
          "base_uri": "https://localhost:8080/"
        },
        "id": "kdAOs0whpLW1",
        "outputId": "4729c71a-7654-46ae-9548-16e8761347ff"
      },
      "outputs": [
        {
          "name": "stdout",
          "output_type": "stream",
          "text": [
            "[[18 13 13]\n",
            " [13 11 12]]\n",
            "(2, 3)\n",
            "[[18 13]\n",
            " [13 11]\n",
            " [13 12]]\n",
            "[[18 13]\n",
            " [13 11]\n",
            " [13 12]]\n",
            "(3, 2)\n"
          ]
        }
      ],
      "source": [
        "arr=np.random.randint(10,20,(2,3))\n",
        "print(arr)\n",
        "print(arr.shape)\n",
        "\n",
        "trans1=np.transpose(arr)\n",
        "trans2=arr.T #same as above\n",
        "\n",
        "print(trans1)\n",
        "print(trans2)\n",
        "print(trans1.shape)"
      ]
    },
    {
      "cell_type": "code",
      "execution_count": 10,
      "metadata": {
        "colab": {
          "base_uri": "https://localhost:8080/"
        },
        "id": "U5aEbdrqqEvu",
        "outputId": "a1e18476-55e3-4563-9096-55ea2bac3774"
      },
      "outputs": [
        {
          "name": "stdout",
          "output_type": "stream",
          "text": [
            "[[2 3]\n",
            " [4 5]\n",
            " [6 7]]\n"
          ]
        }
      ],
      "source": [
        "a=np.array([[2,3,4],[5,6,7]])\n",
        "modified=a.reshape(3,2) # no. of elements should be exactly to fill the new shape completely\n",
        "print(modified)"
      ]
    }
  ],
  "metadata": {
    "colab": {
      "provenance": [],
      "toc_visible": true
    },
    "kernelspec": {
      "display_name": "mlenv",
      "language": "python",
      "name": "python3"
    },
    "language_info": {
      "codemirror_mode": {
        "name": "ipython",
        "version": 3
      },
      "file_extension": ".py",
      "mimetype": "text/x-python",
      "name": "python",
      "nbconvert_exporter": "python",
      "pygments_lexer": "ipython3",
      "version": "3.13.2"
    }
  },
  "nbformat": 4,
  "nbformat_minor": 0
}
